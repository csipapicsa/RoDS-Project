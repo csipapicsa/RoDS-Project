{
 "cells": [
  {
   "cell_type": "code",
   "execution_count": 172,
   "id": "0e3e363a",
   "metadata": {
    "ExecuteTime": {
     "end_time": "2023-03-22T16:06:39.552506Z",
     "start_time": "2023-03-22T16:06:39.540542Z"
    }
   },
   "outputs": [],
   "source": [
    "# import redditlogin as r -yours\n",
    "import redditlogin_priv as r # contains my own creds\n",
    "import subbredits as sr\n",
    "from datetime import datetime\n",
    "import pandas as pd"
   ]
  },
  {
   "cell_type": "code",
   "execution_count": 173,
   "id": "bc83be7a",
   "metadata": {
    "ExecuteTime": {
     "end_time": "2023-03-22T16:06:42.169626Z",
     "start_time": "2023-03-22T16:06:42.157830Z"
    }
   },
   "outputs": [],
   "source": [
    "now = datetime.now().strftime(\"%d-%m-%Y--%H-%M\")"
   ]
  },
  {
   "cell_type": "code",
   "execution_count": null,
   "id": "4b699688",
   "metadata": {
    "ExecuteTime": {
     "start_time": "2023-03-22T16:06:41.335Z"
    }
   },
   "outputs": [
    {
     "name": "stdout",
     "output_type": "stream",
     "text": [
      "nba\n",
      "soccer\n",
      "hockey\n",
      "formula1\n",
      "baseball\n",
      "MMA\n",
      "technology\n",
      "Android\n",
      "BitCoin\n",
      "programming\n",
      "apple\n",
      "toronto\n",
      "australia\n",
      "lifehacks\n",
      "bicycling\n",
      "Fitness\n"
     ]
    }
   ],
   "source": [
    "# loop through in the subredits\n",
    "\n",
    "# number of new topics / reddit:\n",
    "nT = 30\n",
    "\n",
    "# https://praw.readthedocs.io/en/stable/code_overview/models/submission.html\n",
    "# submission:\n",
    "#TODAYSPOST = {}\n",
    "#TODAYSPOST[now] = {}\n",
    "DATASET = []\n",
    "for sR in sr.subreddits:\n",
    "    line = []\n",
    "    print(sR)\n",
    "    #TODAYSPOST[now][sR] = {} #day, subreddits\n",
    "    for submission in r.reddit.subreddit(sR).new(limit=nT):\n",
    "        line = []\n",
    "        #DATA = []\n",
    "        \"\"\"TODAYSPOST[now][sR][submission.id] = {} # now, subredit, new post\n",
    "        TODAYSPOST[now][sR][submission.id][\"title\"] = submission.title\n",
    "        TODAYSPOST[now][sR][submission.id][\"upvotes\"] = submission.score\n",
    "        TODAYSPOST[now][sR][submission.id][\"numberOfComments\"] = submission.num_comments\"\"\"\n",
    "        comments = []\n",
    "        for c in submission.comments:\n",
    "            comments.append(c.id)\n",
    "            \n",
    "        \"\"\"TODAYSPOST[now][sR][submission.id][\"comments\"] = comments\n",
    "        DATA.append((sR, submission.title, submission.score, submission.num_comments, comments))\"\"\"\n",
    "        line.append(now)\n",
    "        line.append(submission.id)\n",
    "        line.append(submission.title)\n",
    "        line.append(submission.score)\n",
    "        line.append(submission.num_comments)\n",
    "        line.append(comments)\n",
    "        DATASET.append(line)"
   ]
  },
  {
   "cell_type": "code",
   "execution_count": null,
   "id": "142492ec",
   "metadata": {
    "ExecuteTime": {
     "start_time": "2023-03-22T16:06:43.282Z"
    }
   },
   "outputs": [],
   "source": [
    "# convert, write\n",
    "df = pd.DataFrame(DATASET, columns=[\"queryDate\", \"id\", \"title\", \"score\", \"numberOfComments\", \"comentsID\"])\n",
    "df.to_parquet(now+\".parquet.gzip\",\n",
    "              compression='gzip')"
   ]
  },
  {
   "cell_type": "code",
   "execution_count": null,
   "id": "6a129de7",
   "metadata": {
    "ExecuteTime": {
     "start_time": "2023-03-22T16:06:44.377Z"
    }
   },
   "outputs": [],
   "source": [
    "# read in\n",
    "pd.read_parquet(now+\".parquet.gzip\").head()"
   ]
  }
 ],
 "metadata": {
  "kernelspec": {
   "display_name": "Python 3 (ipykernel)",
   "language": "python",
   "name": "python3"
  },
  "language_info": {
   "codemirror_mode": {
    "name": "ipython",
    "version": 3
   },
   "file_extension": ".py",
   "mimetype": "text/x-python",
   "name": "python",
   "nbconvert_exporter": "python",
   "pygments_lexer": "ipython3",
   "version": "3.10.7"
  },
  "varInspector": {
   "cols": {
    "lenName": 16,
    "lenType": 16,
    "lenVar": 40
   },
   "kernels_config": {
    "python": {
     "delete_cmd_postfix": "",
     "delete_cmd_prefix": "del ",
     "library": "var_list.py",
     "varRefreshCmd": "print(var_dic_list())"
    },
    "r": {
     "delete_cmd_postfix": ") ",
     "delete_cmd_prefix": "rm(",
     "library": "var_list.r",
     "varRefreshCmd": "cat(var_dic_list()) "
    }
   },
   "types_to_exclude": [
    "module",
    "function",
    "builtin_function_or_method",
    "instance",
    "_Feature"
   ],
   "window_display": false
  }
 },
 "nbformat": 4,
 "nbformat_minor": 5
}
