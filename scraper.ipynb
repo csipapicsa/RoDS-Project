{
 "cells": [
  {
   "cell_type": "code",
   "execution_count": 1,
   "id": "74032341",
   "metadata": {
    "ExecuteTime": {
     "end_time": "2023-03-22T16:50:23.379466Z",
     "start_time": "2023-03-22T16:50:21.575984Z"
    }
   },
   "outputs": [
    {
     "name": "stdout",
     "output_type": "stream",
     "text": [
      "40\n"
     ]
    }
   ],
   "source": [
    "# import redditlogin as r -yours\n",
    "import redditlogin_priv as r # contains my own creds\n",
    "import subbredits as sr\n",
    "from datetime import datetime\n",
    "import pandas as pd"
   ]
  },
  {
   "cell_type": "code",
   "execution_count": 2,
   "id": "f5a3d721",
   "metadata": {
    "ExecuteTime": {
     "end_time": "2023-03-22T16:50:25.067233Z",
     "start_time": "2023-03-22T16:50:25.056238Z"
    }
   },
   "outputs": [],
   "source": [
    "now = datetime.now().strftime(\"%d-%m-%Y--%H-%M\")"
   ]
  },
  {
   "cell_type": "code",
   "execution_count": 3,
   "id": "be59fa4d",
   "metadata": {
    "ExecuteTime": {
     "end_time": "2023-03-22T17:10:38.050979Z",
     "start_time": "2023-03-22T16:50:27.523589Z"
    }
   },
   "outputs": [
    {
     "name": "stdout",
     "output_type": "stream",
     "text": [
      "nba\n",
      "soccer\n",
      "hockey\n",
      "formula1\n",
      "baseball\n",
      "MMA\n",
      "technology\n",
      "Android\n",
      "BitCoin\n",
      "programming\n",
      "apple\n",
      "toronto\n",
      "australia\n",
      "lifehacks\n",
      "bicycling\n",
      "Fitness\n",
      "longboarding\n",
      "drunk\n",
      "Art\n",
      "todayilearned\n",
      "science\n",
      "space\n",
      "explainlikeimfive\n",
      "music\n",
      "movies\n",
      "geek\n",
      "gameofthrones\n",
      "breakingbad\n",
      "startrek\n",
      "futurama\n",
      "gaming\n",
      "leagueoflegends\n",
      "pokemon\n",
      "Minecraft\n",
      "zelda\n",
      "AskReddit\n",
      "TalesFromRetail\n",
      "battlefield3\n",
      "Fallout\n",
      "skyrim\n"
     ]
    }
   ],
   "source": [
    "# loop through in the subredits\n",
    "\n",
    "# number of new topics / reddit:\n",
    "nT = 30\n",
    "\n",
    "# https://praw.readthedocs.io/en/stable/code_overview/models/submission.html\n",
    "# submission:\n",
    "#TODAYSPOST = {}\n",
    "#TODAYSPOST[now] = {}\n",
    "DATASET = []\n",
    "for sR in sr.subreddits:\n",
    "    line = []\n",
    "    print(sR)\n",
    "    #TODAYSPOST[now][sR] = {} #day, subreddits\n",
    "    for submission in r.reddit.subreddit(sR).new(limit=nT):\n",
    "        line = []\n",
    "        #DATA = []\n",
    "        \"\"\"TODAYSPOST[now][sR][submission.id] = {} # now, subredit, new post\n",
    "        TODAYSPOST[now][sR][submission.id][\"title\"] = submission.title\n",
    "        TODAYSPOST[now][sR][submission.id][\"upvotes\"] = submission.score\n",
    "        TODAYSPOST[now][sR][submission.id][\"numberOfComments\"] = submission.num_comments\"\"\"\n",
    "        comments = []\n",
    "        for c in submission.comments:\n",
    "            comments.append(c.id)\n",
    "            \n",
    "        \"\"\"TODAYSPOST[now][sR][submission.id][\"comments\"] = comments\n",
    "        DATA.append((sR, submission.title, submission.score, submission.num_comments, comments))\"\"\"\n",
    "        line.append(now)\n",
    "        line.append(sR)\n",
    "        line.append(submission.id)\n",
    "        line.append(submission.title)\n",
    "        line.append(submission.score)\n",
    "        line.append(submission.num_comments)\n",
    "        line.append(comments)\n",
    "        DATASET.append(line)"
   ]
  },
  {
   "cell_type": "code",
   "execution_count": 4,
   "id": "40a54164",
   "metadata": {
    "ExecuteTime": {
     "end_time": "2023-03-22T17:10:38.161276Z",
     "start_time": "2023-03-22T17:10:38.085085Z"
    }
   },
   "outputs": [],
   "source": [
    "# convert, write\n",
    "df = pd.DataFrame(DATASET, columns=[\"queryDate\", \"subredit\", \"id\", \"title\", \"scoreUpvote\", \"numberOfComments\", \"comentsID\"])\n",
    "df.to_parquet(now+\".parquet.gzip\",\n",
    "              compression='gzip')"
   ]
  },
  {
   "cell_type": "code",
   "execution_count": 5,
   "id": "a7914f0d",
   "metadata": {
    "ExecuteTime": {
     "end_time": "2023-03-22T17:10:38.270968Z",
     "start_time": "2023-03-22T17:10:38.195535Z"
    }
   },
   "outputs": [
    {
     "data": {
      "text/html": [
       "<div>\n",
       "<style scoped>\n",
       "    .dataframe tbody tr th:only-of-type {\n",
       "        vertical-align: middle;\n",
       "    }\n",
       "\n",
       "    .dataframe tbody tr th {\n",
       "        vertical-align: top;\n",
       "    }\n",
       "\n",
       "    .dataframe thead th {\n",
       "        text-align: right;\n",
       "    }\n",
       "</style>\n",
       "<table border=\"1\" class=\"dataframe\">\n",
       "  <thead>\n",
       "    <tr style=\"text-align: right;\">\n",
       "      <th></th>\n",
       "      <th>queryDate</th>\n",
       "      <th>subredit</th>\n",
       "      <th>id</th>\n",
       "      <th>title</th>\n",
       "      <th>scoreUpvote</th>\n",
       "      <th>numberOfComments</th>\n",
       "      <th>comentsID</th>\n",
       "    </tr>\n",
       "  </thead>\n",
       "  <tbody>\n",
       "    <tr>\n",
       "      <th>0</th>\n",
       "      <td>22-03-2023--17-50</td>\n",
       "      <td>nba</td>\n",
       "      <td>11youuw</td>\n",
       "      <td>[Wojnarowski] Apostolopoulos also recently had...</td>\n",
       "      <td>1</td>\n",
       "      <td>0</td>\n",
       "      <td>[]</td>\n",
       "    </tr>\n",
       "    <tr>\n",
       "      <th>1</th>\n",
       "      <td>22-03-2023--17-50</td>\n",
       "      <td>nba</td>\n",
       "      <td>11yoohf</td>\n",
       "      <td>[Tim MacMahon] Luka Doncic is expected to retu...</td>\n",
       "      <td>10</td>\n",
       "      <td>6</td>\n",
       "      <td>[jd8lf2f, jd8lly5, jd8lmav, jd8lifv, jd8m09l]</td>\n",
       "    </tr>\n",
       "    <tr>\n",
       "      <th>2</th>\n",
       "      <td>22-03-2023--17-50</td>\n",
       "      <td>nba</td>\n",
       "      <td>11yon45</td>\n",
       "      <td>[Stein] Dallas has upgraded Luka Dončić (left ...</td>\n",
       "      <td>4</td>\n",
       "      <td>1</td>\n",
       "      <td>[]</td>\n",
       "    </tr>\n",
       "    <tr>\n",
       "      <th>3</th>\n",
       "      <td>22-03-2023--17-50</td>\n",
       "      <td>nba</td>\n",
       "      <td>11yon0d</td>\n",
       "      <td>Zach LaVine on Embiid’s MVP candidacy: “I thin...</td>\n",
       "      <td>13</td>\n",
       "      <td>9</td>\n",
       "      <td>[jd8l180, jd8lzse, jd8lmv4, jd8l4hv, jd8m15l, ...</td>\n",
       "    </tr>\n",
       "    <tr>\n",
       "      <th>4</th>\n",
       "      <td>22-03-2023--17-50</td>\n",
       "      <td>nba</td>\n",
       "      <td>11yoaro</td>\n",
       "      <td>[Highlight] Montage of every close game that t...</td>\n",
       "      <td>26</td>\n",
       "      <td>36</td>\n",
       "      <td>[jd8j40u, jd8jqpj, jd8jaz3, jd8jdj7, jd8jh4p, ...</td>\n",
       "    </tr>\n",
       "  </tbody>\n",
       "</table>\n",
       "</div>"
      ],
      "text/plain": [
       "           queryDate subredit       id  \\\n",
       "0  22-03-2023--17-50      nba  11youuw   \n",
       "1  22-03-2023--17-50      nba  11yoohf   \n",
       "2  22-03-2023--17-50      nba  11yon45   \n",
       "3  22-03-2023--17-50      nba  11yon0d   \n",
       "4  22-03-2023--17-50      nba  11yoaro   \n",
       "\n",
       "                                               title  scoreUpvote  \\\n",
       "0  [Wojnarowski] Apostolopoulos also recently had...            1   \n",
       "1  [Tim MacMahon] Luka Doncic is expected to retu...           10   \n",
       "2  [Stein] Dallas has upgraded Luka Dončić (left ...            4   \n",
       "3  Zach LaVine on Embiid’s MVP candidacy: “I thin...           13   \n",
       "4  [Highlight] Montage of every close game that t...           26   \n",
       "\n",
       "   numberOfComments                                          comentsID  \n",
       "0                 0                                                 []  \n",
       "1                 6      [jd8lf2f, jd8lly5, jd8lmav, jd8lifv, jd8m09l]  \n",
       "2                 1                                                 []  \n",
       "3                 9  [jd8l180, jd8lzse, jd8lmv4, jd8l4hv, jd8m15l, ...  \n",
       "4                36  [jd8j40u, jd8jqpj, jd8jaz3, jd8jdj7, jd8jh4p, ...  "
      ]
     },
     "execution_count": 5,
     "metadata": {},
     "output_type": "execute_result"
    }
   ],
   "source": [
    "# read in\n",
    "pd.read_parquet(now+\".parquet.gzip\").head()"
   ]
  },
  {
   "cell_type": "code",
   "execution_count": null,
   "id": "612f92c2",
   "metadata": {},
   "outputs": [],
   "source": []
  }
 ],
 "metadata": {
  "kernelspec": {
   "display_name": "Python 3 (ipykernel)",
   "language": "python",
   "name": "python3"
  },
  "language_info": {
   "codemirror_mode": {
    "name": "ipython",
    "version": 3
   },
   "file_extension": ".py",
   "mimetype": "text/x-python",
   "name": "python",
   "nbconvert_exporter": "python",
   "pygments_lexer": "ipython3",
   "version": "3.10.7"
  },
  "varInspector": {
   "cols": {
    "lenName": 16,
    "lenType": 16,
    "lenVar": 40
   },
   "kernels_config": {
    "python": {
     "delete_cmd_postfix": "",
     "delete_cmd_prefix": "del ",
     "library": "var_list.py",
     "varRefreshCmd": "print(var_dic_list())"
    },
    "r": {
     "delete_cmd_postfix": ") ",
     "delete_cmd_prefix": "rm(",
     "library": "var_list.r",
     "varRefreshCmd": "cat(var_dic_list()) "
    }
   },
   "types_to_exclude": [
    "module",
    "function",
    "builtin_function_or_method",
    "instance",
    "_Feature"
   ],
   "window_display": false
  }
 },
 "nbformat": 4,
 "nbformat_minor": 5
}
