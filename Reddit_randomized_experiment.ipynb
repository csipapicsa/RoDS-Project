{
 "cells": [
  {
   "cell_type": "markdown",
   "metadata": {},
   "source": [
    "<h1>Reddit randomized controlled experiment</h1>"
   ]
  },
  {
   "cell_type": "code",
   "execution_count": 2,
   "metadata": {
    "ExecuteTime": {
     "end_time": "2023-03-15T13:28:34.860878Z",
     "start_time": "2023-03-15T13:28:34.561495Z"
    }
   },
   "outputs": [],
   "source": [
    "import praw"
   ]
  },
  {
   "cell_type": "markdown",
   "metadata": {},
   "source": [
    "<h1>Create a Reddit instance with PRAW</h1>"
   ]
  },
  {
   "cell_type": "code",
   "execution_count": 5,
   "metadata": {
    "ExecuteTime": {
     "end_time": "2023-03-15T13:33:08.536913Z",
     "start_time": "2023-03-15T13:33:08.518521Z"
    }
   },
   "outputs": [],
   "source": [
    "def user_login(client_id, client_secret,username,password,user_agent):\n",
    "    # reddit api login\n",
    "    reddit = praw.Reddit(client_id=client_id,\n",
    "                         client_secret=client_secret,\n",
    "                         username=username,\n",
    "                         password=password,\n",
    "                         user_agent=user_agent)\n",
    "    return reddit\n",
    "\n",
    "reddit = user_login('put here your client_id', \n",
    "                    'put here your client_secret',\n",
    "                    'put here your username',\n",
    "                    'put here your password',\n",
    "                    'put here your user agent')\n",
    "\n",
    "reddit = user_login('Dh9jkbjqVfypy4JtfOcGlw', \n",
    "                    'GZIAAePsuJh5qWUTw2ESEE9Xg0VGtw',\n",
    "                    'csipapicsa',\n",
    "                    'cs1pap1csa1',\n",
    "                    'put here your user agent')"
   ]
  },
  {
   "cell_type": "markdown",
   "metadata": {},
   "source": [
    "Test if everything went fine by retriving a reddit post."
   ]
  },
  {
   "cell_type": "code",
   "execution_count": 43,
   "metadata": {
    "ExecuteTime": {
     "end_time": "2023-03-15T13:56:42.032061Z",
     "start_time": "2023-03-15T13:56:41.589981Z"
    }
   },
   "outputs": [
    {
     "name": "stdout",
     "output_type": "stream",
     "text": [
      "Post title: [PRAW] How to get top, rising and new posts from subreddit?\n",
      "\n",
      "Post content: Hi, I'm trying to get posts from subreddit. \n",
      "I have tried something like this:\n",
      "\n",
      "reddit = praw.Reddit(params...)\n",
      "submissions = reddit.get_subreddit('learnpython').get_hot(limit=5)\n",
      "print([str(x) for x in submissions])\n",
      "\n",
      "but I get: \n",
      "Traceback (most recent call last):\n",
      "  File \"get_data.py\", line 5, in <module>\n",
      "    submissions = reddit.get_subreddit('learnpython').get_hot(limit=5)\n",
      "AttributeError: 'Reddit' object has no attribute 'get_subreddit'\n",
      "\n",
      "Does anyone know how to fix this?\n",
      "\n",
      "Post number os comments: 2\n",
      "\n",
      "Post url: https://www.reddit.com/r/redditdev/comments/5fyjg4/praw_how_to_get_top_rising_and_new_posts_from/\n",
      "\n"
     ]
    }
   ],
   "source": [
    "\n",
    "#Reddit post: https://www.reddit.com/r/Futurology/comments/11rcj0a/gpt4_is_out_and_the_results_are_astounding_better/\n",
    "#id = 11rcj0a\n",
    "submission = reddit.submission(\"5fyjg4\")\n",
    "print('Post title: {}\\n'.format(submission.title))\n",
    "print('Post content: {}\\n'.format(submission.selftext))\n",
    "print('Post number os comments: {}\\n'.format(submission.num_comments))\n",
    "print('Post url: {}\\n'.format(submission.url))\n",
    "\n",
    "#search the API and print more information associated with the post."
   ]
  },
  {
   "cell_type": "markdown",
   "metadata": {},
   "source": [
    "<h1>Upvote a post</h1>"
   ]
  },
  {
   "cell_type": "code",
   "execution_count": null,
   "metadata": {},
   "outputs": [],
   "source": [
    "#read the documentation: https://praw.readthedocs.io/en/latest/"
   ]
  },
  {
   "cell_type": "code",
   "execution_count": 8,
   "metadata": {
    "ExecuteTime": {
     "end_time": "2023-03-15T13:36:35.591682Z",
     "start_time": "2023-03-15T13:36:35.416557Z"
    }
   },
   "outputs": [],
   "source": [
    "submission = reddit.submission(\"11fjunj\")\n",
    "submission.upvote()\n",
    "\n",
    "# it works\n",
    "#comment = reddit.comment(\"jak9bbr\")\n",
    "#comment.upvote()"
   ]
  },
  {
   "cell_type": "code",
   "execution_count": 16,
   "metadata": {
    "ExecuteTime": {
     "end_time": "2023-03-15T13:43:07.494709Z",
     "start_time": "2023-03-15T13:43:07.134600Z"
    }
   },
   "outputs": [],
   "source": [
    "comment = reddit.comment(\"jak9bbr\")\n",
    "comment.upvote()\n",
    "comment.downvote()"
   ]
  },
  {
   "cell_type": "code",
   "execution_count": 22,
   "metadata": {
    "ExecuteTime": {
     "end_time": "2023-03-15T13:44:38.209822Z",
     "start_time": "2023-03-15T13:44:38.008156Z"
    }
   },
   "outputs": [
    {
     "data": {
      "text/plain": [
       "857"
      ]
     },
     "execution_count": 22,
     "metadata": {},
     "output_type": "execute_result"
    }
   ],
   "source": [
    "comment = reddit.comment(\"jak9bbr\")\n",
    "\n",
    "comment.ups"
   ]
  },
  {
   "cell_type": "code",
   "execution_count": 24,
   "metadata": {
    "ExecuteTime": {
     "end_time": "2023-03-15T13:44:47.067124Z",
     "start_time": "2023-03-15T13:44:46.843980Z"
    }
   },
   "outputs": [
    {
     "data": {
      "text/plain": [
       "0"
      ]
     },
     "execution_count": 24,
     "metadata": {},
     "output_type": "execute_result"
    }
   ],
   "source": [
    "comment = reddit.comment(\"jak9bbr\")\n",
    "\n",
    "comment.downs"
   ]
  },
  {
   "cell_type": "markdown",
   "metadata": {},
   "source": [
    "<h1>Get newly created posts</h1>"
   ]
  },
  {
   "cell_type": "code",
   "execution_count": 32,
   "metadata": {
    "ExecuteTime": {
     "end_time": "2023-03-15T13:48:24.693494Z",
     "start_time": "2023-03-15T13:48:24.684492Z"
    }
   },
   "outputs": [],
   "source": [
    "#read the documentation: https://praw.readthedocs.io/en/latest/\n",
    "submissions = reddit.subreddit('house').hot(limit=20)"
   ]
  },
  {
   "cell_type": "code",
   "execution_count": 35,
   "metadata": {
    "ExecuteTime": {
     "end_time": "2023-03-15T13:51:10.420259Z",
     "start_time": "2023-03-15T13:51:10.073114Z"
    }
   },
   "outputs": [
    {
     "name": "stdout",
     "output_type": "stream",
     "text": [
      "Former US President Barack Obama once came across a choir of Danish Girls practicing their singing with their balcony door open, to which he kindly asked to keep singing for him to enjoy\n",
      "The Sleep Police\n",
      "Wcgw when you’ve got more litres of petrol than iq points\n",
      "Opinion columnist questions credentials, gets owned\n",
      "It almost killed me, but the work is done.\n"
     ]
    }
   ],
   "source": [
    "l = []\n",
    "for submission in reddit.subreddit(\"all\").hot(limit=5):\n",
    "    print(submission.title)\n",
    "    l.append(submission)"
   ]
  },
  {
   "cell_type": "code",
   "execution_count": 41,
   "metadata": {
    "ExecuteTime": {
     "end_time": "2023-03-15T13:52:32.994582Z",
     "start_time": "2023-03-15T13:52:32.985605Z"
    }
   },
   "outputs": [
    {
     "data": {
      "text/plain": [
       "11198"
      ]
     },
     "execution_count": 41,
     "metadata": {},
     "output_type": "execute_result"
    }
   ],
   "source": [
    "l[4].score"
   ]
  },
  {
   "cell_type": "markdown",
   "metadata": {},
   "source": [
    "<h1>Create a Reddit posts stream</h1>"
   ]
  },
  {
   "cell_type": "code",
   "execution_count": null,
   "metadata": {},
   "outputs": [],
   "source": [
    "#read the documentation: https://praw.readthedocs.io/en/latest/"
   ]
  },
  {
   "cell_type": "code",
   "execution_count": 42,
   "metadata": {
    "ExecuteTime": {
     "end_time": "2023-03-15T13:55:42.353475Z",
     "start_time": "2023-03-15T13:53:20.677027Z"
    }
   },
   "outputs": [
    {
     "name": "stdout",
     "output_type": "stream",
     "text": [
      "jc7z4jy\n",
      "jc7zetn\n",
      "jc7zn8n\n",
      "jc80e2v\n",
      "jc80lix\n",
      "jc80t1g\n",
      "jc811oz\n",
      "jc82q1s\n",
      "jc83gm2\n",
      "jc846xb\n",
      "jc84ebb\n",
      "jc84q33\n",
      "jc854uo\n",
      "jc8553u\n",
      "jc856z2\n",
      "jc857v3\n",
      "jc85ba0\n",
      "jc869zx\n",
      "jc86uv9\n",
      "jc89kr5\n",
      "jc89lln\n",
      "jc8a2do\n",
      "jc8a944\n",
      "jc8amqv\n",
      "jc8ek1o\n",
      "jc8eqqu\n",
      "jc8fgil\n",
      "jc8ft2c\n",
      "jc8h4hb\n",
      "jc8h5r6\n",
      "jc8hhrj\n",
      "jc8j5ce\n",
      "jc8jbwo\n",
      "jc8jjz7\n",
      "jc8k0ul\n",
      "jc8kh4g\n",
      "jc8klhe\n",
      "jc8ksgm\n",
      "jc8q1ev\n",
      "jc8q5m3\n",
      "jc8rfcz\n",
      "jc8s44l\n",
      "jc8uo1l\n",
      "jc8xjbq\n",
      "jc8yqyl\n",
      "jc8zch1\n",
      "jc91oed\n",
      "jc92bes\n",
      "jc93ytw\n",
      "jc94j3t\n",
      "jc951at\n",
      "jc95mfs\n",
      "jc981sh\n",
      "jc98mwp\n",
      "jc98v0t\n",
      "jc99tlu\n",
      "jc9a3s1\n",
      "jc9ce1q\n",
      "jc9cqa3\n",
      "jc9dl5a\n",
      "jc9h5kd\n",
      "jc9ha0a\n",
      "jc9hiwc\n",
      "jc9hp14\n",
      "jc9hsub\n",
      "jc9hve6\n",
      "jc9iu3k\n",
      "jc9j1h2\n",
      "jc9j305\n",
      "jc9j8wv\n",
      "jc9m33m\n",
      "jc9m65a\n",
      "jc9nvq3\n",
      "jc9pntu\n",
      "jc9q3mq\n",
      "jc9qddo\n",
      "jc9reac\n",
      "jc9rl2v\n",
      "jc9tcpo\n",
      "jc9vj67\n",
      "jc9vsfu\n",
      "jc9vvsy\n",
      "jc9vxoq\n",
      "jc9yw7r\n",
      "jc9znje\n",
      "jca1bja\n",
      "jca34rv\n",
      "jca44sg\n",
      "jca4sja\n",
      "jca5q36\n",
      "jca93dn\n",
      "jca9871\n",
      "jcaa1cs\n",
      "jcab6zg\n",
      "jcaetmk\n",
      "jcaft79\n",
      "jcag6eg\n",
      "jcahv2k\n",
      "jcaiygd\n",
      "jcajdpd\n",
      "jcakgd7\n"
     ]
    },
    {
     "ename": "KeyboardInterrupt",
     "evalue": "",
     "output_type": "error",
     "traceback": [
      "\u001b[1;31m---------------------------------------------------------------------------\u001b[0m",
      "\u001b[1;31mKeyboardInterrupt\u001b[0m                         Traceback (most recent call last)",
      "Cell \u001b[1;32mIn [42], line 1\u001b[0m\n\u001b[1;32m----> 1\u001b[0m \u001b[38;5;28;01mfor\u001b[39;00m comment \u001b[38;5;129;01min\u001b[39;00m reddit\u001b[38;5;241m.\u001b[39msubreddit(\u001b[38;5;124m'\u001b[39m\u001b[38;5;124miama\u001b[39m\u001b[38;5;124m'\u001b[39m)\u001b[38;5;241m.\u001b[39mstream\u001b[38;5;241m.\u001b[39mcomments():\n\u001b[0;32m      2\u001b[0m     \u001b[38;5;28mprint\u001b[39m(comment)\n",
      "File \u001b[1;32m~\\AppData\\Local\\Programs\\Python\\Python310\\lib\\site-packages\\praw\\models\\util.py:161\u001b[0m, in \u001b[0;36mstream_generator\u001b[1;34m(function, attribute_name, exclude_before, pause_after, skip_existing, **function_kwargs)\u001b[0m\n\u001b[0;32m    159\u001b[0m     \u001b[38;5;28;01myield\u001b[39;00m \u001b[38;5;28;01mNone\u001b[39;00m\n\u001b[0;32m    160\u001b[0m \u001b[38;5;28;01melse\u001b[39;00m:\n\u001b[1;32m--> 161\u001b[0m     \u001b[43mtime\u001b[49m\u001b[38;5;241;43m.\u001b[39;49m\u001b[43msleep\u001b[49m\u001b[43m(\u001b[49m\u001b[43mexponential_counter\u001b[49m\u001b[38;5;241;43m.\u001b[39;49m\u001b[43mcounter\u001b[49m\u001b[43m(\u001b[49m\u001b[43m)\u001b[49m\u001b[43m)\u001b[49m\n",
      "\u001b[1;31mKeyboardInterrupt\u001b[0m: "
     ]
    }
   ],
   "source": [
    "for comment in reddit.subreddit('iama').stream.comments():\n",
    "    print(comment)"
   ]
  },
  {
   "cell_type": "code",
   "execution_count": null,
   "metadata": {},
   "outputs": [],
   "source": []
  }
 ],
 "metadata": {
  "kernelspec": {
   "display_name": "Python 3 (ipykernel)",
   "language": "python",
   "name": "python3"
  },
  "language_info": {
   "codemirror_mode": {
    "name": "ipython",
    "version": 3
   },
   "file_extension": ".py",
   "mimetype": "text/x-python",
   "name": "python",
   "nbconvert_exporter": "python",
   "pygments_lexer": "ipython3",
   "version": "3.10.7"
  },
  "varInspector": {
   "cols": {
    "lenName": 16,
    "lenType": 16,
    "lenVar": 40
   },
   "kernels_config": {
    "python": {
     "delete_cmd_postfix": "",
     "delete_cmd_prefix": "del ",
     "library": "var_list.py",
     "varRefreshCmd": "print(var_dic_list())"
    },
    "r": {
     "delete_cmd_postfix": ") ",
     "delete_cmd_prefix": "rm(",
     "library": "var_list.r",
     "varRefreshCmd": "cat(var_dic_list()) "
    }
   },
   "types_to_exclude": [
    "module",
    "function",
    "builtin_function_or_method",
    "instance",
    "_Feature"
   ],
   "window_display": true
  }
 },
 "nbformat": 4,
 "nbformat_minor": 4
}
